{
 "cells": [
  {
   "cell_type": "markdown",
   "execution_count": null,
   "metadata": {},
   "source": [
    "# <a id=\"top_section\"></a>\n",
    "\n",
    "<div align='center'><font size=\"6\" color=\"#000000\"><b> Image Recognition using CNN (explained !) </b></font></div>\n",
    "<hr>\n",
    "<div align='center'><font size=\"5\" color=\"#000000\">Introduction</font></div>\n",
    "<hr>\n",
    "\n",
    "When I started doing this problem my main goal was getting experience and to be able to explain whatver I learnt on the way. I'm still learning and trying to improve my skills, so every feedback and advices are welcome !\n",
    "<br><br>\n",
    "In this notebook I will try to show how to build a Digit Recognizer using Convolutional Neural Network(CNN) and will try to explain each step. If you are a beginner then this is the Notebook for you !\n",
    "\n",
    "### Here are the things I will try to cover in this Notebook:\n",
    "\n",
    "- What does our data look like ?\n",
    "- What model should we choose or build?\n",
    "- Which optimization technique to use?\n",
    "- What is data augmentation ? Will it help in increasing the accuracy of our model?\n",
    "- Is it possible to achieve 100% accuracy?\n",
    "\n",
    "### If you like this kernel feel free to upvote and leave feedback, thanks!"
   ]
  },
  {
   "cell_type": "markdown",
   "execution_count": null,
   "metadata": {},
   "source": [
    "![Image Recognier](https://miro.medium.com/max/372/1*AO2rIhzRYzFVQlFLx9DM9A.png)"
   ]
  },
  {
   "cell_type": "markdown",
   "execution_count": null,
   "metadata": {},
   "source": [
    "<a id=\"toc_section\"></a>\n",
    "## Table of Contents\n",
    "* [Introduction](#top_section)\n",
    "* [Importing all the Required Libraries and Data](#section1)\n",
    "* [Making our Data ready to be used](#section2)\n",
    "    - [Shaping our data](#section3)\n",
    "    - [Scaling our data](#section4)\n",
    "    - [Encoding our data](#section5)\n",
    "* [Building our CNN Model](#section6)\n",
    "    - [Choosing an Optimizer](#section7)\n",
    "    - [Building our model](#section8)\n",
    "    - [Data Augmentation](#section9)\n",
    "    - [Training our model](#section10)\n",
    "    - [Accuracy and Loss plots](#section11)\n",
    "    - [Accuracy report](#section12)\n",
    "* [Submission & Some Last Words](#sectionlst)\n"
   ]
  },
  {
   "cell_type": "markdown",
   "execution_count": null,
   "metadata": {},
   "source": [
    "<a id=\"section1\"></a>\n",
    "## Importing the libraries and Data\n"
   ]
  },
  {
   "cell_type": "markdown",
   "execution_count": null,
   "metadata": {},
   "source": [
    "Let's start this notebook with importing all the necessary libraries we would need and the dataset."
   ]
  },
  {
   "cell_type": "code",
   "execution_count": 1,
   "metadata": {},
   "outputs": [],
   "source": [
    "\n",
    "import numpy as np\n",
    "import pandas as pd\n",
    "import matplotlib.pyplot as plt\n",
    "import seaborn as sns\n",
    "%matplotlib inline\n",
    "sns.set_style()\n",
    "\n",
    "# to divide our data into train and validation set\n",
    "from sklearn.model_selection import train_test_split\n",
    "#to encode our labels\n",
    "from tensorflow.keras.utils import to_categorical\n",
    "#to build our model \n",
    "from tensorflow.keras.models import Sequential\n",
    "from tensorflow.keras.layers import Dense,Conv2D,MaxPool2D,Flatten,Dropout\n",
    "# Our optimizer options\n",
    "from keras.optimizers import RMSprop\n",
    "from keras.optimizers import Adam\n",
    "#Callback options\n",
    "from tensorflow.keras.callbacks import EarlyStopping\n",
    "from keras.callbacks import ReduceLROnPlateau\n",
    "#importing image data generator for data augmentation\n",
    "from tensorflow.keras.preprocessing.image import ImageDataGenerator\n",
    "#for the final prediction report\n",
    "from sklearn.metrics import classification_report ,confusion_matrix"
   ]
  },
  {
   "cell_type": "code",
   "execution_count": 2,
   "metadata": {},
   "outputs": [
    {
     "name": "stdout",
     "output_type": "stream",
     "text": [
      "The size of training data is 42000 and that of test data is 28000\n"
     ]
    }
   ],
   "source": [
    "train =pd.read_csv('../input/digit-recognizer/train.csv')\n",
    "test=pd.read_csv('../input/digit-recognizer/test.csv')\n",
    "y_train=train['label']\n",
    "print(f'The size of training data is {train.shape[0]} and that of test data is {test.shape[0]}')"
   ]
  },
  {
   "cell_type": "markdown",
   "execution_count": null,
   "metadata": {},
   "source": [
    "Ler's see our label column ! Basically it is the the column which labels our image as the number it is recognized as."
   ]
  },
  {
   "cell_type": "code",
   "execution_count": 3,
   "metadata": {},
   "outputs": [
    {
     "data": {
      "text/plain": [
       "0        1\n",
       "1        0\n",
       "2        1\n",
       "3        4\n",
       "4        0\n",
       "        ..\n",
       "41995    0\n",
       "41996    1\n",
       "41997    7\n",
       "41998    6\n",
       "41999    9\n",
       "Name: label, Length: 42000, dtype: int64"
      ]
     },
     "execution_count": 3,
     "metadata": {},
     "output_type": "execute_result"
    }
   ],
   "source": [
    "y_train"
   ]
  },
  {
   "cell_type": "markdown",
   "execution_count": null,
   "metadata": {},
   "source": [
    "Let's set our features aside and see how it looks!"
   ]
  },
  {
   "cell_type": "code",
   "execution_count": 4,
   "metadata": {},
   "outputs": [
    {
     "data": {
      "text/plain": [
       "array([[0, 0, 0, ..., 0, 0, 0],\n",
       "       [0, 0, 0, ..., 0, 0, 0],\n",
       "       [0, 0, 0, ..., 0, 0, 0],\n",
       "       ...,\n",
       "       [0, 0, 0, ..., 0, 0, 0],\n",
       "       [0, 0, 0, ..., 0, 0, 0],\n",
       "       [0, 0, 0, ..., 0, 0, 0]])"
      ]
     },
     "execution_count": 4,
     "metadata": {},
     "output_type": "execute_result"
    }
   ],
   "source": [
    "x_train=train.drop('label',axis=1).values\n",
    "x_train"
   ]
  },
  {
   "cell_type": "markdown",
   "execution_count": null,
   "metadata": {},
   "source": [
    "Let's just see a random image from our dataset ( I just used 41999 randomly , you can use any number).\n",
    "- We will use the imshow(image show) function of matplotlib library here , you can use cmap as binary or Greys (they will get you the same image)\n",
    "- we will reshape it to a image size that is 28 * 28 so that we can plot it from 728."
   ]
  },
  {
   "cell_type": "code",
   "execution_count": 5,
   "metadata": {},
   "outputs": [
    {
     "data": {
      "image/png": "[encoded data removed]",
      "text/plain": [
       "<Figure size 432x288 with 1 Axes>"
      ]
     },
     "metadata": {
      "needs_background": "light"
     },
     "output_type": "display_data"
    }
   ],
   "source": [
    "plt.imshow(x_train[41999].reshape(28,28),cmap='binary')\n",
    "plt.show()"
   ]
  },
  {
   "cell_type": "markdown",
   "execution_count": null,
   "metadata": {},
   "source": [
    "<a id=\"section2\"></a>\n",
    "## Making our Data to be used !\n"
   ]
  },
  {
   "cell_type": "markdown",
   "execution_count": null,
   "metadata": {},
   "source": [
    "<a id=\"section3\"></a>\n",
    "## Shaping our data\n"
   ]
  },
  {
   "cell_type": "markdown",
   "execution_count": null,
   "metadata": {},
   "source": [
    "Now we will reshape the whole x_train dataset."
   ]
  },
  {
   "cell_type": "code",
   "execution_count": 6,
   "metadata": {},
   "outputs": [],
   "source": [
    "x_train=x_train.reshape(42000,28,28)"
   ]
  },
  {
   "cell_type": "markdown",
   "execution_count": null,
   "metadata": {},
   "source": [
    "Let's be sure that we did it right :P"
   ]
  },
  {
   "cell_type": "code",
   "execution_count": 7,
   "metadata": {},
   "outputs": [
    {
     "data": {
      "text/plain": [
       "(42000, 28, 28)"
      ]
     },
     "execution_count": 7,
     "metadata": {},
     "output_type": "execute_result"
    }
   ],
   "source": [
    "x_train.shape"
   ]
  },
  {
   "cell_type": "markdown",
   "execution_count": null,
   "metadata": {},
   "source": [
    "Let's split our data into training and validation set , we will use the train_test_split function of sklearn library for this step."
   ]
  },
  {
   "cell_type": "markdown",
   "execution_count": null,
   "metadata": {},
   "source": [
    "![Data splitting chart](https://i.stack.imgur.com/pXAfX.png)"
   ]
  },
  {
   "cell_type": "code",
   "execution_count": 8,
   "metadata": {},
   "outputs": [],
   "source": [
    "\n",
    "x_train,x_val,y_train,y_val=train_test_split(x_train,y_train,test_size=0.10,random_state=19)"
   ]
  },
  {
   "cell_type": "markdown",
   "execution_count": null,
   "metadata": {},
   "source": [
    "Let's see how much data we have now in train and validation set !"
   ]
  },
  {
   "cell_type": "code",
   "execution_count": 9,
   "metadata": {},
   "outputs": [
    {
     "name": "stdout",
     "output_type": "stream",
     "text": [
      "The training set has 37800 images and the validation set has 4200 images\n"
     ]
    }
   ],
   "source": [
    "print(f'The training set has {x_train.shape[0]} images and the validation set has {x_val.shape[0]} images')"
   ]
  },
  {
   "cell_type": "markdown",
   "execution_count": null,
   "metadata": {},
   "source": [
    "<a id=\"section4\"></a>\n",
    "## Encoding the Label column\n"
   ]
  },
  {
   "cell_type": "markdown",
   "execution_count": null,
   "metadata": {},
   "source": [
    "As our label column has 10 possible values(0-9) we will encode it using the to_categorical function from the keras.\n",
    "- We will use num_classes as 10 , as that is how many possible values the column can have."
   ]
  },
  {
   "cell_type": "code",
   "execution_count": 10,
   "metadata": {},
   "outputs": [],
   "source": [
    "y_cat_train=to_categorical(y_train,num_classes=10)\n",
    "y_cat_val=to_categorical(y_val,num_classes=10)"
   ]
  },
  {
   "cell_type": "markdown",
   "execution_count": null,
   "metadata": {},
   "source": [
    "Now let's plot a random image along with it's label."
   ]
  },
  {
   "cell_type": "code",
   "execution_count": 11,
   "metadata": {},
   "outputs": [
    {
     "data": {
      "image/png": "[encoded data removed]",
      "text/plain": [
       "<Figure size 432x288 with 1 Axes>"
      ]
     },
     "metadata": {
      "needs_background": "light"
     },
     "output_type": "display_data"
    }
   ],
   "source": [
    "random_image=x_train[78]\n",
    "random_label=y_train[78]\n",
    "plt.imshow(random_image,cmap='binary')\n",
    "plt.title(random_label,fontsize=20,weight='bold',color='red')\n",
    "plt.show()"
   ]
  },
  {
   "cell_type": "markdown",
   "execution_count": null,
   "metadata": {},
   "source": [
    "<a id=\"section3\"></a>\n",
    "## Scaling our data\n"
   ]
  },
  {
   "cell_type": "markdown",
   "execution_count": null,
   "metadata": {},
   "source": [
    "Let's see what is the range of our data for the images. Simply the (max-min) value is range."
   ]
  },
  {
   "cell_type": "code",
   "execution_count": 12,
   "metadata": {},
   "outputs": [
    {
     "data": {
      "text/plain": [
       "255"
      ]
     },
     "execution_count": 12,
     "metadata": {},
     "output_type": "execute_result"
    }
   ],
   "source": [
    "random_image.max()"
   ]
  },
  {
   "cell_type": "code",
   "execution_count": 13,
   "metadata": {},
   "outputs": [
    {
     "data": {
      "text/plain": [
       "0"
      ]
     },
     "execution_count": 13,
     "metadata": {},
     "output_type": "execute_result"
    }
   ],
   "source": [
    "random_image.min()"
   ]
  },
  {
   "cell_type": "markdown",
   "execution_count": null,
   "metadata": {},
   "source": [
    "Clearly 255 is the range , so we will now use this value to scale our data ! "
   ]
  },
  {
   "cell_type": "code",
   "execution_count": 14,
   "metadata": {},
   "outputs": [],
   "source": [
    "x_train_scaled=x_train/255\n",
    "x_val_scaled=x_val/255"
   ]
  },
  {
   "cell_type": "markdown",
   "execution_count": null,
   "metadata": {},
   "source": [
    "But won't it affect the image? Same question was mine when i first thought about it but , NO , it won't ! Don't believe me ? See for yourself !"
   ]
  },
  {
   "cell_type": "code",
   "execution_count": 15,
   "metadata": {},
   "outputs": [
    {
     "data": {
      "image/png": "[encoded data removed]",
      "text/plain": [
       "<Figure size 432x288 with 1 Axes>"
      ]
     },
     "metadata": {
      "needs_background": "light"
     },
     "output_type": "display_data"
    }
   ],
   "source": [
    "plt.imshow(x_train_scaled[78],cmap='binary')\n",
    "plt.title(y_train[78],fontsize=20,weight='bold',color='red')\n",
    "plt.show()"
   ]
  },
  {
   "cell_type": "markdown",
   "execution_count": null,
   "metadata": {},
   "source": [
    "Okay so we are almost done , but to process the image we need to tell our model that our images are grey-scale , and we will do it by adding a 1 to the shape of our dataset."
   ]
  },
  {
   "cell_type": "code",
   "execution_count": 16,
   "metadata": {},
   "outputs": [],
   "source": [
    "x_train_final = x_train_scaled.reshape(x_train_scaled.shape[0],28,28,1)\n",
    "x_val_final = x_val_scaled.reshape(x_val_scaled.shape[0],28,28,1)"
   ]
  },
  {
   "cell_type": "markdown",
   "execution_count": null,
   "metadata": {},
   "source": [
    "<a id=\"section6\"></a>\n",
    "## Building our CNN Model\n"
   ]
  },
  {
   "cell_type": "markdown",
   "execution_count": null,
   "metadata": {},
   "source": [
    "<a id=\"section7\"></a>\n",
    "## Choosing an optimizer\n"
   ]
  },
  {
   "cell_type": "markdown",
   "execution_count": null,
   "metadata": {},
   "source": [
    "So there are a lot of optimizers out there and the most famous ones are Adam and RMSprop , \n",
    "> So what should we choose?\n",
    "\n",
    "I tried both and RMSprop gave me better results for my model so I will be using RMSprop here , but you can also try Adam optimizer it's good too and maybe if you are using a different model Adam optimizer could work better for you model !"
   ]
  },
  {
   "cell_type": "markdown",
   "execution_count": null,
   "metadata": {},
   "source": [
    "Let's set our RMSprop then :\n",
    "- Setting learning rate to 0.001\n",
    "- The value of rho to 0.9\n",
    "- Epsilon to 10^-8\n",
    "- Decay to zero\n",
    "\n",
    "You can also read more about RMSprop [here](https://towardsdatascience.com/understanding-rmsprop-faster-neural-network-learning-62e116fcf29a)."
   ]
  },
  {
   "cell_type": "code",
   "execution_count": 17,
   "metadata": {},
   "outputs": [],
   "source": [
    "optimizer = RMSprop(lr=0.001, rho=0.9, epsilon=1e-08, decay=0.0)"
   ]
  },
  {
   "cell_type": "markdown",
   "execution_count": null,
   "metadata": {},
   "source": [
    "<a id=\"section8\"></a>\n",
    "## Building our model"
   ]
  },
  {
   "cell_type": "markdown",
   "execution_count": null,
   "metadata": {},
   "source": [
    "So it's all set now let's build our model shall we?\n",
    "I tried various models and this one gave me the best results so i will be using this one !\n",
    "If you play with it a little bit you can get even better results , atleast that's how i got it !\n",
    "Here's a tip if you're a beginner: <br>\n",
    "> Start with a base model , and change a little bit and continue doing so , play with the base model and stop when you get better results."
   ]
  },
  {
   "cell_type": "code",
   "execution_count": 18,
   "metadata": {},
   "outputs": [],
   "source": [
    "model=Sequential()\n",
    "model.add(Conv2D(filters=32,kernel_size=(5,5),strides=(1,1),input_shape=(28,28,1),padding='Same',activation='relu'))\n",
    "model.add(Conv2D(filters=32,kernel_size=(5,5),strides=(1,1),input_shape=(28,28,1),padding='Same',activation='relu'))\n",
    "model.add(MaxPool2D(pool_size=(2,2)))\n",
    "model.add(Dropout(0.25))\n",
    "\n",
    "model.add(Conv2D(filters=64,kernel_size=(3,3),strides=(1,1),input_shape=(28,28,1),padding='Same',activation='relu'))\n",
    "model.add(Conv2D(filters=64,kernel_size=(3,3),strides=(1,1),input_shape=(28,28,1),padding='Same',activation='relu'))\n",
    "model.add(MaxPool2D(pool_size=(2,2)))\n",
    "model.add(Dropout(0.25))\n",
    "\n",
    "model.add(Flatten())\n",
    "model.add(Dense(256,activation='relu'))\n",
    "model.add(Dropout(0.5))\n",
    "model.add(Dense(10,activation='softmax'))\n",
    "\n",
    "model.compile(loss='categorical_crossentropy',optimizer='adam',metrics=['accuracy'])"
   ]
  },
  {
   "cell_type": "markdown",
   "execution_count": null,
   "metadata": {},
   "source": [
    "<a id=\"section9\"></a>\n",
    "## Choosing a callback\n"
   ]
  },
  {
   "cell_type": "markdown",
   "execution_count": null,
   "metadata": {},
   "source": [
    "There are two call-back techniques that I tried :\n",
    "- [Earlystop](https://www.tensorflow.org/api_docs/python/tf/keras/callbacks/EarlyStopping) : A basic technique which stops training when a monitored metric has stopped improving.\n",
    "- [ReduceLRonPlateau](https://www.tensorflow.org/api_docs/python/tf/keras/callbacks/ReduceLROnPlateau) : A more advance technique than early stop which reduces learning rate when a metric has stopped improving."
   ]
  },
  {
   "cell_type": "code",
   "execution_count": 19,
   "metadata": {},
   "outputs": [],
   "source": [
    "\n",
    "early_stop= EarlyStopping(monitor='val_loss',patience=2)"
   ]
  },
  {
   "cell_type": "code",
   "execution_count": 20,
   "metadata": {},
   "outputs": [],
   "source": [
    "learning_rate_reduction = ReduceLROnPlateau(monitor='val_accuracy', \n",
    "                                            patience=3, \n",
    "                                            verbose=1, \n",
    "                                            factor=0.5, \n",
    "                                            min_lr=0.00001)"
   ]
  },
  {
   "cell_type": "markdown",
   "execution_count": null,
   "metadata": {},
   "source": [
    "<a id=\"section10\"></a>\n",
    "## Data Augmentation"
   ]
  },
  {
   "cell_type": "markdown",
   "execution_count": null,
   "metadata": {},
   "source": [
    "### For beginners:\n",
    "> What is data Augmentation\n",
    "<br>\n",
    "\n",
    "- Data augmentation is a strategy that enables practitioners to significantly increase the diversity of data available for training models, without actually collecting new data. Data augmentation techniques such as cropping, padding, and horizontal flipping are commonly used to train large neural networks.\n"
   ]
  },
  {
   "cell_type": "markdown",
   "execution_count": null,
   "metadata": {},
   "source": [
    "So now that we know what data augmentation is , let's implement it to make our model even better !"
   ]
  },
  {
   "cell_type": "markdown",
   "execution_count": null,
   "metadata": {},
   "source": [
    "I am using ImageDataGenerator function from keras here for data augmentation ,and have set the range for different features as below:\n",
    "- Rotation : 10\n",
    "- Width : 10% \n",
    "- Height : 10%\n",
    "- Sheer : 10 %\n",
    "- Zoom : 10%"
   ]
  },
  {
   "cell_type": "code",
   "execution_count": 21,
   "metadata": {},
   "outputs": [],
   "source": [
    "image_gen=ImageDataGenerator(rotation_range=10,width_shift_range=0.1,height_shift_range=0.1,shear_range=0.1,zoom_range=0.1,fill_mode='nearest')"
   ]
  },
  {
   "cell_type": "markdown",
   "execution_count": null,
   "metadata": {},
   "source": [
    "Now let's call this image_gen we created !"
   ]
  },
  {
   "cell_type": "code",
   "execution_count": 22,
   "metadata": {},
   "outputs": [],
   "source": [
    "train_image_gen=image_gen.fit(x_train_final)"
   ]
  },
  {
   "cell_type": "code",
   "execution_count": 23,
   "metadata": {},
   "outputs": [],
   "source": [
    "train_image_gen"
   ]
  },
  {
   "cell_type": "markdown",
   "execution_count": null,
   "metadata": {},
   "source": [
    "<a id=\"section11\"></a>\n",
    "## Training our Model !"
   ]
  },
  {
   "cell_type": "markdown",
   "execution_count": null,
   "metadata": {},
   "source": [
    "So we have come a long way ! CONGRATS , we have almost completed our model.\n",
    "Here comes the most boring , time-taking and the longest part , i.e., training the model.\n",
    "Sit back , go for a walk , talk to your friends or maybe just watch netflix and let the model train !"
   ]
  },
  {
   "cell_type": "code",
   "execution_count": 24,
   "metadata": {},
   "outputs": [],
   "source": [
    "epoch= 15 #30 gave me the best accuracy!"
   ]
  },
  {
   "cell_type": "code",
   "execution_count": 25,
   "metadata": {},
   "outputs": [
    {
     "name": "stdout",
     "output_type": "stream",
     "text": [
      "Epoch 1/15\n",
      "1182/1182 [==============================] - 16s 14ms/step - loss: 0.3500 - accuracy: 0.8878 - val_loss: 0.0675 - val_accuracy: 0.9793 - lr: 0.0010\n",
      "Epoch 2/15\n",
      "1182/1182 [==============================] - 16s 13ms/step - loss: 0.1184 - accuracy: 0.9643 - val_loss: 0.0441 - val_accuracy: 0.9881 - lr: 0.0010\n",
      "Epoch 3/15\n",
      "1182/1182 [==============================] - 15s 13ms/step - loss: 0.0883 - accuracy: 0.9741 - val_loss: 0.0358 - val_accuracy: 0.9898 - lr: 0.0010\n",
      "Epoch 4/15\n",
      "1182/1182 [==============================] - 16s 13ms/step - loss: 0.0815 - accuracy: 0.9766 - val_loss: 0.0326 - val_accuracy: 0.9926 - lr: 0.0010\n",
      "Epoch 5/15\n",
      "1182/1182 [==============================] - 17s 14ms/step - loss: 0.0709 - accuracy: 0.9799 - val_loss: 0.0343 - val_accuracy: 0.9912 - lr: 0.0010\n",
      "Epoch 6/15\n",
      "1182/1182 [==============================] - 16s 13ms/step - loss: 0.0651 - accuracy: 0.9811 - val_loss: 0.0300 - val_accuracy: 0.9919 - lr: 0.0010\n",
      "Epoch 7/15\n",
      "1180/1182 [============================>.] - ETA: 0s - loss: 0.0609 - accuracy: 0.9825\n",
      "Epoch 00007: ReduceLROnPlateau reducing learning rate to 0.0005000000237487257.\n",
      "1182/1182 [==============================] - 16s 13ms/step - loss: 0.0608 - accuracy: 0.9825 - val_loss: 0.0335 - val_accuracy: 0.9902 - lr: 0.0010\n",
      "Epoch 8/15\n",
      "1182/1182 [==============================] - 16s 14ms/step - loss: 0.0430 - accuracy: 0.9866 - val_loss: 0.0308 - val_accuracy: 0.9919 - lr: 5.0000e-04\n",
      "Epoch 9/15\n",
      "1182/1182 [==============================] - 17s 14ms/step - loss: 0.0407 - accuracy: 0.9879 - val_loss: 0.0295 - val_accuracy: 0.9931 - lr: 5.0000e-04\n",
      "Epoch 10/15\n",
      "1182/1182 [==============================] - 16s 13ms/step - loss: 0.0376 - accuracy: 0.9887 - val_loss: 0.0267 - val_accuracy: 0.9940 - lr: 5.0000e-04\n",
      "Epoch 11/15\n",
      "1182/1182 [==============================] - 16s 14ms/step - loss: 0.0358 - accuracy: 0.9893 - val_loss: 0.0246 - val_accuracy: 0.9943 - lr: 5.0000e-04\n",
      "Epoch 12/15\n",
      "1182/1182 [==============================] - 16s 14ms/step - loss: 0.0345 - accuracy: 0.9902 - val_loss: 0.0244 - val_accuracy: 0.9940 - lr: 5.0000e-04\n",
      "Epoch 13/15\n",
      "1182/1182 [==============================] - 17s 14ms/step - loss: 0.0344 - accuracy: 0.9896 - val_loss: 0.0290 - val_accuracy: 0.9943 - lr: 5.0000e-04\n",
      "Epoch 14/15\n",
      "1181/1182 [============================>.] - ETA: 0s - loss: 0.0319 - accuracy: 0.9904\n",
      "Epoch 00014: ReduceLROnPlateau reducing learning rate to 0.0002500000118743628.\n",
      "1182/1182 [==============================] - 16s 13ms/step - loss: 0.0318 - accuracy: 0.9904 - val_loss: 0.0308 - val_accuracy: 0.9938 - lr: 5.0000e-04\n",
      "Epoch 15/15\n",
      "1182/1182 [==============================] - 16s 14ms/step - loss: 0.0247 - accuracy: 0.9920 - val_loss: 0.0265 - val_accuracy: 0.9955 - lr: 2.5000e-04\n"
     ]
    },
    {
     "data": {
      "text/plain": [
       "<tensorflow.python.keras.callbacks.History at 0x7f7fb3139c50>"
      ]
     },
     "execution_count": 25,
     "metadata": {},
     "output_type": "execute_result"
    }
   ],
   "source": [
    "model.fit_generator(image_gen.flow(x_train_final,y_cat_train),epochs=epoch,validation_data=(x_val_final,y_cat_val),callbacks=[learning_rate_reduction])"
   ]
  },
  {
   "cell_type": "markdown",
   "execution_count": null,
   "metadata": {},
   "source": [
    "<a id=\"section12\"></a>\n",
    "## Accuracy and Loss plots"
   ]
  },
  {
   "cell_type": "markdown",
   "execution_count": null,
   "metadata": {},
   "source": [
    "So the long part is done , but just to be sure that we did not eventually overfit the data , let's plot the graph for it!"
   ]
  },
  {
   "cell_type": "code",
   "execution_count": 26,
   "metadata": {},
   "outputs": [
    {
     "data": {
      "text/html": [
       "<div>\n",
       "<style scoped>\n",
       "    .dataframe tbody tr th:only-of-type {\n",
       "        vertical-align: middle;\n",
       "    }\n",
       "\n",
       "    .dataframe tbody tr th {\n",
       "        vertical-align: top;\n",
       "    }\n",
       "\n",
       "    .dataframe thead th {\n",
       "        text-align: right;\n",
       "    }\n",
       "</style>\n",
       "<table border=\"1\" class=\"dataframe\">\n",
       "  <thead>\n",
       "    <tr style=\"text-align: right;\">\n",
       "      <th></th>\n",
       "      <th>loss</th>\n",
       "      <th>accuracy</th>\n",
       "      <th>val_loss</th>\n",
       "      <th>val_accuracy</th>\n",
       "      <th>lr</th>\n",
       "    </tr>\n",
       "  </thead>\n",
       "  <tbody>\n",
       "    <tr>\n",
       "      <th>0</th>\n",
       "      <td>0.349972</td>\n",
       "      <td>0.887751</td>\n",
       "      <td>0.067547</td>\n",
       "      <td>0.979286</td>\n",
       "      <td>0.00100</td>\n",
       "    </tr>\n",
       "    <tr>\n",
       "      <th>1</th>\n",
       "      <td>0.118406</td>\n",
       "      <td>0.964312</td>\n",
       "      <td>0.044077</td>\n",
       "      <td>0.988095</td>\n",
       "      <td>0.00100</td>\n",
       "    </tr>\n",
       "    <tr>\n",
       "      <th>2</th>\n",
       "      <td>0.088253</td>\n",
       "      <td>0.974074</td>\n",
       "      <td>0.035787</td>\n",
       "      <td>0.989762</td>\n",
       "      <td>0.00100</td>\n",
       "    </tr>\n",
       "    <tr>\n",
       "      <th>3</th>\n",
       "      <td>0.081516</td>\n",
       "      <td>0.976640</td>\n",
       "      <td>0.032553</td>\n",
       "      <td>0.992619</td>\n",
       "      <td>0.00100</td>\n",
       "    </tr>\n",
       "    <tr>\n",
       "      <th>4</th>\n",
       "      <td>0.070878</td>\n",
       "      <td>0.979894</td>\n",
       "      <td>0.034295</td>\n",
       "      <td>0.991190</td>\n",
       "      <td>0.00100</td>\n",
       "    </tr>\n",
       "    <tr>\n",
       "      <th>5</th>\n",
       "      <td>0.065056</td>\n",
       "      <td>0.981138</td>\n",
       "      <td>0.029991</td>\n",
       "      <td>0.991905</td>\n",
       "      <td>0.00100</td>\n",
       "    </tr>\n",
       "    <tr>\n",
       "      <th>6</th>\n",
       "      <td>0.060821</td>\n",
       "      <td>0.982487</td>\n",
       "      <td>0.033536</td>\n",
       "      <td>0.990238</td>\n",
       "      <td>0.00100</td>\n",
       "    </tr>\n",
       "    <tr>\n",
       "      <th>7</th>\n",
       "      <td>0.043008</td>\n",
       "      <td>0.986640</td>\n",
       "      <td>0.030790</td>\n",
       "      <td>0.991905</td>\n",
       "      <td>0.00050</td>\n",
       "    </tr>\n",
       "    <tr>\n",
       "      <th>8</th>\n",
       "      <td>0.040747</td>\n",
       "      <td>0.987857</td>\n",
       "      <td>0.029503</td>\n",
       "      <td>0.993095</td>\n",
       "      <td>0.00050</td>\n",
       "    </tr>\n",
       "    <tr>\n",
       "      <th>9</th>\n",
       "      <td>0.037587</td>\n",
       "      <td>0.988677</td>\n",
       "      <td>0.026694</td>\n",
       "      <td>0.994048</td>\n",
       "      <td>0.00050</td>\n",
       "    </tr>\n",
       "    <tr>\n",
       "      <th>10</th>\n",
       "      <td>0.035763</td>\n",
       "      <td>0.989339</td>\n",
       "      <td>0.024580</td>\n",
       "      <td>0.994286</td>\n",
       "      <td>0.00050</td>\n",
       "    </tr>\n",
       "    <tr>\n",
       "      <th>11</th>\n",
       "      <td>0.034476</td>\n",
       "      <td>0.990238</td>\n",
       "      <td>0.024415</td>\n",
       "      <td>0.994048</td>\n",
       "      <td>0.00050</td>\n",
       "    </tr>\n",
       "    <tr>\n",
       "      <th>12</th>\n",
       "      <td>0.034407</td>\n",
       "      <td>0.989603</td>\n",
       "      <td>0.028953</td>\n",
       "      <td>0.994286</td>\n",
       "      <td>0.00050</td>\n",
       "    </tr>\n",
       "    <tr>\n",
       "      <th>13</th>\n",
       "      <td>0.031829</td>\n",
       "      <td>0.990370</td>\n",
       "      <td>0.030796</td>\n",
       "      <td>0.993810</td>\n",
       "      <td>0.00050</td>\n",
       "    </tr>\n",
       "    <tr>\n",
       "      <th>14</th>\n",
       "      <td>0.024727</td>\n",
       "      <td>0.992037</td>\n",
       "      <td>0.026511</td>\n",
       "      <td>0.995476</td>\n",
       "      <td>0.00025</td>\n",
       "    </tr>\n",
       "  </tbody>\n",
       "</table>\n",
       "</div>"
      ],
      "text/plain": [
       "        loss  accuracy  val_loss  val_accuracy       lr\n",
       "0   0.349972  0.887751  0.067547      0.979286  0.00100\n",
       "1   0.118406  0.964312  0.044077      0.988095  0.00100\n",
       "2   0.088253  0.974074  0.035787      0.989762  0.00100\n",
       "3   0.081516  0.976640  0.032553      0.992619  0.00100\n",
       "4   0.070878  0.979894  0.034295      0.991190  0.00100\n",
       "5   0.065056  0.981138  0.029991      0.991905  0.00100\n",
       "6   0.060821  0.982487  0.033536      0.990238  0.00100\n",
       "7   0.043008  0.986640  0.030790      0.991905  0.00050\n",
       "8   0.040747  0.987857  0.029503      0.993095  0.00050\n",
       "9   0.037587  0.988677  0.026694      0.994048  0.00050\n",
       "10  0.035763  0.989339  0.024580      0.994286  0.00050\n",
       "11  0.034476  0.990238  0.024415      0.994048  0.00050\n",
       "12  0.034407  0.989603  0.028953      0.994286  0.00050\n",
       "13  0.031829  0.990370  0.030796      0.993810  0.00050\n",
       "14  0.024727  0.992037  0.026511      0.995476  0.00025"
      ]
     },
     "execution_count": 26,
     "metadata": {},
     "output_type": "execute_result"
    }
   ],
   "source": [
    "metrics=pd.DataFrame(model.history.history)\n",
    "metrics"
   ]
  },
  {
   "cell_type": "code",
   "execution_count": 27,
   "metadata": {},
   "outputs": [
    {
     "data": {
      "image/png": "[encoded data removed]",
      "text/plain": [
       "<Figure size 432x288 with 1 Axes>"
      ]
     },
     "metadata": {
      "needs_background": "light"
     },
     "output_type": "display_data"
    }
   ],
   "source": [
    "metrics[['loss' , 'val_loss']].plot()\n",
    "plt.show()"
   ]
  },
  {
   "cell_type": "code",
   "execution_count": 28,
   "metadata": {},
   "outputs": [
    {
     "data": {
      "image/png": "[encoded data removed]",
      "text/plain": [
       "<Figure size 432x288 with 1 Axes>"
      ]
     },
     "metadata": {
      "needs_background": "light"
     },
     "output_type": "display_data"
    }
   ],
   "source": [
    "metrics[['accuracy' , 'val_accuracy']].plot()\n",
    "plt.show()"
   ]
  },
  {
   "cell_type": "markdown",
   "execution_count": null,
   "metadata": {},
   "source": [
    "<a id=\"section13\"></a>\n",
    "## Accuracy Report"
   ]
  },
  {
   "cell_type": "markdown",
   "execution_count": null,
   "metadata": {},
   "source": [
    "Looks pretty good , now let's see our model's accuracy report !"
   ]
  },
  {
   "cell_type": "code",
   "execution_count": 29,
   "metadata": {},
   "outputs": [
    {
     "data": {
      "text/plain": [
       "[0.0265106949955225, 0.9954761862754822]"
      ]
     },
     "execution_count": 29,
     "metadata": {},
     "output_type": "execute_result"
    }
   ],
   "source": [
    "model.evaluate(x_val_final, y_cat_val, verbose=0)"
   ]
  },
  {
   "cell_type": "code",
   "execution_count": 30,
   "metadata": {},
   "outputs": [
    {
     "data": {
      "text/plain": [
       "array([7, 7, 5, ..., 8, 1, 4])"
      ]
     },
     "execution_count": 30,
     "metadata": {},
     "output_type": "execute_result"
    }
   ],
   "source": [
    "y_pred=model.predict_classes(x_val_final)\n",
    "y_pred"
   ]
  },
  {
   "cell_type": "code",
   "execution_count": 31,
   "metadata": {},
   "outputs": [
    {
     "name": "stdout",
     "output_type": "stream",
     "text": [
      "Classification Report\n",
      "              precision    recall  f1-score   support\n",
      "\n",
      "           0       1.00      1.00      1.00       417\n",
      "           1       1.00      1.00      1.00       476\n",
      "           2       1.00      0.99      1.00       384\n",
      "           3       1.00      0.99      1.00       451\n",
      "           4       1.00      0.99      1.00       391\n",
      "           5       0.99      1.00      1.00       424\n",
      "           6       1.00      0.99      0.99       403\n",
      "           7       0.99      1.00      0.99       470\n",
      "           8       0.99      0.99      0.99       383\n",
      "           9       0.98      1.00      0.99       401\n",
      "\n",
      "    accuracy                           1.00      4200\n",
      "   macro avg       1.00      1.00      1.00      4200\n",
      "weighted avg       1.00      1.00      1.00      4200\n",
      "\n",
      "\n",
      "\n",
      "Confusion Matrix\n",
      "[[417   0   0   0   0   0   0   0   0   0]\n",
      " [  0 476   0   0   0   0   0   0   0   0]\n",
      " [  0   0 382   0   0   0   0   1   1   0]\n",
      " [  0   0   0 448   0   0   0   1   0   2]\n",
      " [  0   1   0   0 389   0   0   0   0   1]\n",
      " [  0   0   0   0   0 423   0   0   0   1]\n",
      " [  0   1   0   0   0   2 399   0   1   0]\n",
      " [  0   0   0   0   0   0   0 468   0   2]\n",
      " [  0   0   1   0   0   1   1   0 379   1]\n",
      " [  0   0   0   0   0   0   0   1   0 400]]\n"
     ]
    }
   ],
   "source": [
    "\n",
    "print('Classification Report')\n",
    "print(classification_report(y_val,y_pred))\n",
    "print('\\n')\n",
    "print('Confusion Matrix')\n",
    "print(confusion_matrix(y_val,y_pred))"
   ]
  },
  {
   "cell_type": "markdown",
   "execution_count": null,
   "metadata": {},
   "source": [
    "![](https://image.slidesharecdn.com/pacpresentation-111117202719-phpapp02/95/packaging-your-story-social-media-for-b2bs-59-728.jpg?cb=1328235125)"
   ]
  },
  {
   "cell_type": "code",
   "execution_count": 32,
   "metadata": {},
   "outputs": [
    {
     "name": "stdout",
     "output_type": "stream",
     "text": [
      "Prediction:\n",
      "4\n"
     ]
    },
    {
     "data": {
      "text/plain": [
       "<function matplotlib.pyplot.show(*args, **kw)>"
      ]
     },
     "execution_count": 32,
     "metadata": {},
     "output_type": "execute_result"
    },
    {
     "data": {
      "image/png": "[encoded data removed]",
      "text/plain": [
       "<Figure size 432x288 with 1 Axes>"
      ]
     },
     "metadata": {
      "needs_background": "light"
     },
     "output_type": "display_data"
    }
   ],
   "source": [
    "np.random.seed(22)\n",
    "random_selection=np.random.randint(0,4201,size=1)\n",
    "random_sample=x_val_final[random_selection]\n",
    "print('Prediction:')\n",
    "print(model.predict_classes(random_sample.reshape(1,28,28,1))[0])\n",
    "plt.imshow(random_sample.reshape(28,28),cmap='binary')\n",
    "plt.show"
   ]
  },
  {
   "cell_type": "code",
   "execution_count": 33,
   "metadata": {},
   "outputs": [
    {
     "name": "stdout",
     "output_type": "stream",
     "text": [
      "Prediction:\n",
      "9\n"
     ]
    },
    {
     "data": {
      "text/plain": [
       "<function matplotlib.pyplot.show(*args, **kw)>"
      ]
     },
     "execution_count": 33,
     "metadata": {},
     "output_type": "execute_result"
    },
    {
     "data": {
      "image/png": "[encoded data removed]",
      "text/plain": [
       "<Figure size 432x288 with 1 Axes>"
      ]
     },
     "metadata": {
      "needs_background": "light"
     },
     "output_type": "display_data"
    }
   ],
   "source": [
    "np.random.seed(20)\n",
    "random_selection=np.random.randint(0,4201,size=1)\n",
    "random_sample=x_val_final[random_selection]\n",
    "print('Prediction:')\n",
    "print(model.predict_classes(random_sample.reshape(1,28,28,1))[0])\n",
    "plt.imshow(random_sample.reshape(28,28),cmap='binary')\n",
    "plt.show"
   ]
  },
  {
   "cell_type": "code",
   "execution_count": 34,
   "metadata": {},
   "outputs": [
    {
     "name": "stdout",
     "output_type": "stream",
     "text": [
      "Prediction:\n",
      "1\n"
     ]
    },
    {
     "data": {
      "text/plain": [
       "<function matplotlib.pyplot.show(*args, **kw)>"
      ]
     },
     "execution_count": 34,
     "metadata": {},
     "output_type": "execute_result"
    },
    {
     "data": {
      "image/png": "[encoded data removed]",
      "text/plain": [
       "<Figure size 432x288 with 1 Axes>"
      ]
     },
     "metadata": {
      "needs_background": "light"
     },
     "output_type": "display_data"
    }
   ],
   "source": [
    "np.random.seed(19)\n",
    "random_selection=np.random.randint(0,4201,size=1)\n",
    "random_sample=x_val_final[random_selection]\n",
    "print('Prediction:')\n",
    "print(model.predict_classes(random_sample.reshape(1,28,28,1))[0])\n",
    "plt.imshow(random_sample.reshape(28,28),cmap='binary')\n",
    "plt.show"
   ]
  },
  {
   "cell_type": "markdown",
   "execution_count": null,
   "metadata": {},
   "source": [
    "<a id=\"sectionlst\"></a>\n",
    "#  Submission\n",
    "\n",
    "\n",
    "### [Back To Table of Contents](#toc_section)"
   ]
  },
  {
   "cell_type": "markdown",
   "execution_count": null,
   "metadata": {},
   "source": [
    "So we are now on the last part ! Let's first make our test data all ready and then we will submit our predictions !"
   ]
  },
  {
   "cell_type": "code",
   "execution_count": 35,
   "metadata": {},
   "outputs": [
    {
     "data": {
      "text/plain": [
       "(28000, 28, 28)"
      ]
     },
     "execution_count": 35,
     "metadata": {},
     "output_type": "execute_result"
    }
   ],
   "source": [
    "# Reshaping test data\n",
    "x_test = test.values\n",
    "x_test = x_test.reshape(28000,28,28)\n",
    "x_test.shape"
   ]
  },
  {
   "cell_type": "code",
   "execution_count": 36,
   "metadata": {},
   "outputs": [],
   "source": [
    "x_test_scaled=x_test/255"
   ]
  },
  {
   "cell_type": "code",
   "execution_count": 37,
   "metadata": {},
   "outputs": [],
   "source": [
    "test_predictions=model.predict_classes(x_test_scaled.reshape(28000,28,28,1))"
   ]
  },
  {
   "cell_type": "code",
   "execution_count": 38,
   "metadata": {},
   "outputs": [
    {
     "data": {
      "text/plain": [
       "array([2, 0, 9, ..., 3, 9, 2])"
      ]
     },
     "execution_count": 38,
     "metadata": {},
     "output_type": "execute_result"
    }
   ],
   "source": [
    "test_predictions"
   ]
  },
  {
   "cell_type": "markdown",
   "execution_count": null,
   "metadata": {},
   "source": [
    "Let's convert these predictions into a submiitable csv file."
   ]
  },
  {
   "cell_type": "code",
   "execution_count": 39,
   "metadata": {},
   "outputs": [],
   "source": [
    "output=pd.DataFrame({'ImageId':test.index+1,'Label':test_predictions})\n",
    "output.to_csv('new_submission.csv',index=False)"
   ]
  },
  {
   "cell_type": "markdown",
   "execution_count": null,
   "metadata": {},
   "source": [
    "# Some last words:\n",
    "\n",
    "### Thank you for reading! I'm still a beginner and want to improve myself in every way I can. So if you have any ideas to feedback please let me know in the comments section!\n",
    "\n",
    "\n",
    "<div align='center'><font size=\"5\" color=\"#000000\"><b>And again please vote if you liked this notebook so it can reach more people, Thanks!</b></font></div>"
   ]
  },
  {
   "cell_type": "markdown",
   "execution_count": null,
   "metadata": {},
   "source": [
    "![Thank you for reading](https://i.chzbgr.com/full/8599480832/hC37E5E67/thank-you-very-much)"
   ]
  }
 ],
 "metadata": {
  "kernelspec": {
   "display_name": "Python 3",
   "language": "python",
   "name": "python3"
  },
  "language_info": {
   "codemirror_mode": {
    "name": "ipython",
    "version": 3
   },
   "file_extension": ".py",
   "mimetype": "text/x-python",
   "name": "python",
   "nbconvert_exporter": "python",
   "pygments_lexer": "ipython3",
   "version": "3.7.6"
  }
 },
 "nbformat": 4,
 "nbformat_minor": 4
}
